{
 "cells": [
  {
   "cell_type": "markdown",
   "metadata": {},
   "source": [
    "## Analyze codonors"
   ]
  },
  {
   "cell_type": "code",
   "execution_count": 1,
   "metadata": {},
   "outputs": [],
   "source": [
    "import datetime\n",
    "import pandas as pd\n",
    "import matplotlib.pyplot as plt\n",
    "from matplotlib import ticker\n",
    "%matplotlib inline"
   ]
  },
  {
   "cell_type": "markdown",
   "metadata": {},
   "source": [
    "Time the notebook"
   ]
  },
  {
   "cell_type": "code",
   "execution_count": 2,
   "metadata": {},
   "outputs": [],
   "source": [
    "start = datetime.datetime.now()"
   ]
  },
  {
   "cell_type": "markdown",
   "metadata": {},
   "source": [
    "Set some viewing options"
   ]
  },
  {
   "cell_type": "code",
   "execution_count": 3,
   "metadata": {},
   "outputs": [],
   "source": [
    "pd.set_option('display.max_colwidth', 200)\n",
    "pd.set_option('display.max_columns', 40)\n",
    "pd.set_option('display.max_rows', 100)"
   ]
  },
  {
   "cell_type": "markdown",
   "metadata": {},
   "source": [
    "Load candidates file"
   ]
  },
  {
   "cell_type": "code",
   "execution_count": 4,
   "metadata": {},
   "outputs": [],
   "source": [
    "candidates = pd.read_csv(\n",
    "    \"../data/candidates.csv\"\n",
    ")"
   ]
  },
  {
   "cell_type": "markdown",
   "metadata": {},
   "source": [
    "Read dataframe of all actblue contributions"
   ]
  },
  {
   "cell_type": "code",
   "execution_count": 5,
   "metadata": {},
   "outputs": [
    {
     "data": {
      "text/html": [
       "<div>\n",
       "<style scoped>\n",
       "    .dataframe tbody tr th:only-of-type {\n",
       "        vertical-align: middle;\n",
       "    }\n",
       "\n",
       "    .dataframe tbody tr th {\n",
       "        vertical-align: top;\n",
       "    }\n",
       "\n",
       "    .dataframe thead th {\n",
       "        text-align: right;\n",
       "    }\n",
       "</style>\n",
       "<table border=\"1\" class=\"dataframe\">\n",
       "  <thead>\n",
       "    <tr style=\"text-align: right;\">\n",
       "      <th></th>\n",
       "      <th>candidate_name</th>\n",
       "      <th>committee_name</th>\n",
       "      <th>Candidate ID</th>\n",
       "      <th>committee_id</th>\n",
       "      <th>entity_type</th>\n",
       "      <th>filer_committee_id_number</th>\n",
       "      <th>transaction_id</th>\n",
       "      <th>contribution_date</th>\n",
       "      <th>contribution_amount</th>\n",
       "      <th>contribution_aggregate</th>\n",
       "      <th>contributor_organization_name</th>\n",
       "      <th>contributor_first_name</th>\n",
       "      <th>contributor_last_name</th>\n",
       "      <th>contributor_street_1</th>\n",
       "      <th>contributor_street_2</th>\n",
       "      <th>contributor_city</th>\n",
       "      <th>contributor_zip_code</th>\n",
       "      <th>contributor_state</th>\n",
       "      <th>contributor_employer</th>\n",
       "      <th>contributor_occupation</th>\n",
       "      <th>contribution_purpose_descrip</th>\n",
       "      <th>memo_code</th>\n",
       "      <th>memo_text_description</th>\n",
       "      <th>filing_id</th>\n",
       "      <th>donor_id</th>\n",
       "      <th>actblue_committee_name</th>\n",
       "      <th>latest_contribution_aggregate</th>\n",
       "    </tr>\n",
       "  </thead>\n",
       "  <tbody>\n",
       "    <tr>\n",
       "      <th>0</th>\n",
       "      <td>Cory Booker</td>\n",
       "      <td>Cory 2020</td>\n",
       "      <td>P00009795</td>\n",
       "      <td>C00695510</td>\n",
       "      <td>IND</td>\n",
       "      <td>C00401224</td>\n",
       "      <td>SA11AI_157915681</td>\n",
       "      <td>2019-05-16</td>\n",
       "      <td>5.0</td>\n",
       "      <td>5.0</td>\n",
       "      <td>NaN</td>\n",
       "      <td>DAVID</td>\n",
       "      <td>A. HEIFETZ</td>\n",
       "      <td>214 RHODE ISLAND AVE NW</td>\n",
       "      <td>NaN</td>\n",
       "      <td>WASHINGTON</td>\n",
       "      <td>20001</td>\n",
       "      <td>DC</td>\n",
       "      <td>NEW POLITICS</td>\n",
       "      <td>CHIEF COMMUNICATIONS OFFICER</td>\n",
       "      <td>Earmark</td>\n",
       "      <td>NaN</td>\n",
       "      <td>Earmarked for CORY 2020 (C00695510)</td>\n",
       "      <td>1344765</td>\n",
       "      <td>DAVID|A HEIFETZ|20001</td>\n",
       "      <td>CORY 2020</td>\n",
       "      <td>5.0</td>\n",
       "    </tr>\n",
       "    <tr>\n",
       "      <th>1</th>\n",
       "      <td>Cory Booker</td>\n",
       "      <td>Cory 2020</td>\n",
       "      <td>P00009795</td>\n",
       "      <td>C00695510</td>\n",
       "      <td>IND</td>\n",
       "      <td>C00401224</td>\n",
       "      <td>SA11AI_151300127</td>\n",
       "      <td>2019-03-22</td>\n",
       "      <td>20.0</td>\n",
       "      <td>20.0</td>\n",
       "      <td>NaN</td>\n",
       "      <td>CAROL</td>\n",
       "      <td>A.FOSTER</td>\n",
       "      <td>93 HORNE WAY</td>\n",
       "      <td>NaN</td>\n",
       "      <td>MILLBURY</td>\n",
       "      <td>01527</td>\n",
       "      <td>MA</td>\n",
       "      <td>NOT EMPLOYED</td>\n",
       "      <td>NOT EMPLOYED</td>\n",
       "      <td>Earmark</td>\n",
       "      <td>NaN</td>\n",
       "      <td>Earmarked for CORY 2020 (C00695510)</td>\n",
       "      <td>1344765</td>\n",
       "      <td>CAROL|A FOSTER|01527</td>\n",
       "      <td>CORY 2020</td>\n",
       "      <td>20.0</td>\n",
       "    </tr>\n",
       "    <tr>\n",
       "      <th>2</th>\n",
       "      <td>Cory Booker</td>\n",
       "      <td>Cory 2020</td>\n",
       "      <td>P00009795</td>\n",
       "      <td>C00695510</td>\n",
       "      <td>IND</td>\n",
       "      <td>C00401224</td>\n",
       "      <td>SA11AI_160483217</td>\n",
       "      <td>2019-06-07</td>\n",
       "      <td>5.0</td>\n",
       "      <td>5.0</td>\n",
       "      <td>NaN</td>\n",
       "      <td>REET</td>\n",
       "      <td>AADOSON-PALLADINO</td>\n",
       "      <td>587 WATERCOLOR LN</td>\n",
       "      <td>NaN</td>\n",
       "      <td>WEST SACRAMENTO</td>\n",
       "      <td>95605</td>\n",
       "      <td>CA</td>\n",
       "      <td>NOT EMPLOYED</td>\n",
       "      <td>NOT EMPLOYED</td>\n",
       "      <td>Earmark</td>\n",
       "      <td>NaN</td>\n",
       "      <td>Earmarked for CORY 2020 (C00695510)</td>\n",
       "      <td>1344765</td>\n",
       "      <td>REET|AADOSON-PALLADINO|95605</td>\n",
       "      <td>CORY 2020</td>\n",
       "      <td>5.0</td>\n",
       "    </tr>\n",
       "  </tbody>\n",
       "</table>\n",
       "</div>"
      ],
      "text/plain": [
       "  candidate_name committee_name Candidate ID committee_id entity_type  \\\n",
       "0    Cory Booker      Cory 2020    P00009795    C00695510         IND   \n",
       "1    Cory Booker      Cory 2020    P00009795    C00695510         IND   \n",
       "2    Cory Booker      Cory 2020    P00009795    C00695510         IND   \n",
       "\n",
       "  filer_committee_id_number    transaction_id contribution_date  \\\n",
       "0                 C00401224  SA11AI_157915681        2019-05-16   \n",
       "1                 C00401224  SA11AI_151300127        2019-03-22   \n",
       "2                 C00401224  SA11AI_160483217        2019-06-07   \n",
       "\n",
       "   contribution_amount  contribution_aggregate contributor_organization_name  \\\n",
       "0                  5.0                     5.0                           NaN   \n",
       "1                 20.0                    20.0                           NaN   \n",
       "2                  5.0                     5.0                           NaN   \n",
       "\n",
       "  contributor_first_name contributor_last_name     contributor_street_1  \\\n",
       "0                  DAVID            A. HEIFETZ  214 RHODE ISLAND AVE NW   \n",
       "1                  CAROL              A.FOSTER             93 HORNE WAY   \n",
       "2                   REET     AADOSON-PALLADINO        587 WATERCOLOR LN   \n",
       "\n",
       "   contributor_street_2 contributor_city contributor_zip_code  \\\n",
       "0                   NaN       WASHINGTON                20001   \n",
       "1                   NaN         MILLBURY                01527   \n",
       "2                   NaN  WEST SACRAMENTO                95605   \n",
       "\n",
       "  contributor_state contributor_employer        contributor_occupation  \\\n",
       "0                DC         NEW POLITICS  CHIEF COMMUNICATIONS OFFICER   \n",
       "1                MA         NOT EMPLOYED                  NOT EMPLOYED   \n",
       "2                CA         NOT EMPLOYED                  NOT EMPLOYED   \n",
       "\n",
       "  contribution_purpose_descrip  memo_code  \\\n",
       "0                      Earmark        NaN   \n",
       "1                      Earmark        NaN   \n",
       "2                      Earmark        NaN   \n",
       "\n",
       "                 memo_text_description filing_id  \\\n",
       "0  Earmarked for CORY 2020 (C00695510)   1344765   \n",
       "1  Earmarked for CORY 2020 (C00695510)   1344765   \n",
       "2  Earmarked for CORY 2020 (C00695510)   1344765   \n",
       "\n",
       "                       donor_id actblue_committee_name  \\\n",
       "0         DAVID|A HEIFETZ|20001              CORY 2020   \n",
       "1          CAROL|A FOSTER|01527              CORY 2020   \n",
       "2  REET|AADOSON-PALLADINO|95605              CORY 2020   \n",
       "\n",
       "   latest_contribution_aggregate  \n",
       "0                            5.0  \n",
       "1                           20.0  \n",
       "2                            5.0  "
      ]
     },
     "execution_count": 5,
     "metadata": {},
     "output_type": "execute_result"
    }
   ],
   "source": [
    "actblue = pd.read_csv(\n",
    "    \"../output/clean_actblue.csv\",\n",
    "    dtype = {\n",
    "        \"filing_id\": \"object\",\n",
    "        \"contributor_organization_name\": \"object\"\n",
    "    },\n",
    "    parse_dates = ['contribution_date']\n",
    ")\n",
    "\n",
    "actblue.head(3)"
   ]
  },
  {
   "cell_type": "markdown",
   "metadata": {},
   "source": [
    "Load DataFrame of latest contributions"
   ]
  },
  {
   "cell_type": "code",
   "execution_count": 6,
   "metadata": {},
   "outputs": [
    {
     "data": {
      "text/html": [
       "<div>\n",
       "<style scoped>\n",
       "    .dataframe tbody tr th:only-of-type {\n",
       "        vertical-align: middle;\n",
       "    }\n",
       "\n",
       "    .dataframe tbody tr th {\n",
       "        vertical-align: top;\n",
       "    }\n",
       "\n",
       "    .dataframe thead th {\n",
       "        text-align: right;\n",
       "    }\n",
       "</style>\n",
       "<table border=\"1\" class=\"dataframe\">\n",
       "  <thead>\n",
       "    <tr style=\"text-align: right;\">\n",
       "      <th></th>\n",
       "      <th>donor_id</th>\n",
       "      <th>candidate_name</th>\n",
       "      <th>latest_contribution_aggregate</th>\n",
       "    </tr>\n",
       "  </thead>\n",
       "  <tbody>\n",
       "    <tr>\n",
       "      <th>0</th>\n",
       "      <td>!HERBERT|FREEMAN|08831</td>\n",
       "      <td>Beto O'Rourke</td>\n",
       "      <td>7.0</td>\n",
       "    </tr>\n",
       "    <tr>\n",
       "      <th>1</th>\n",
       "      <td>!HERBERT|FREEMAN|08831</td>\n",
       "      <td>Joe Biden</td>\n",
       "      <td>122.0</td>\n",
       "    </tr>\n",
       "    <tr>\n",
       "      <th>2</th>\n",
       "      <td>\"FITZ\" JOHN|FITZGERALD|15201</td>\n",
       "      <td>Jay Inslee</td>\n",
       "      <td>10.0</td>\n",
       "    </tr>\n",
       "  </tbody>\n",
       "</table>\n",
       "</div>"
      ],
      "text/plain": [
       "                       donor_id candidate_name  latest_contribution_aggregate\n",
       "0        !HERBERT|FREEMAN|08831  Beto O'Rourke                            7.0\n",
       "1        !HERBERT|FREEMAN|08831      Joe Biden                          122.0\n",
       "2  \"FITZ\" JOHN|FITZGERALD|15201     Jay Inslee                           10.0"
      ]
     },
     "execution_count": 6,
     "metadata": {},
     "output_type": "execute_result"
    }
   ],
   "source": [
    "latest_contribs = (\n",
    "    pd\n",
    "    .read_csv(\n",
    "        \"../output/latest_contribs.csv\",\n",
    "        dtype = {\n",
    "            \"filing_id\": \"str\"\n",
    "        }\n",
    "    )\n",
    ")\n",
    "\n",
    "latest_contribs.head(3)"
   ]
  },
  {
   "cell_type": "markdown",
   "metadata": {},
   "source": [
    "Convenience functions for readable output"
   ]
  },
  {
   "cell_type": "code",
   "execution_count": 7,
   "metadata": {},
   "outputs": [],
   "source": [
    "def dollar(num):\n",
    "    return '${:,.2f}'.format(num)\n",
    "\n",
    "def comma(num):\n",
    "    return '{:,}'.format(num)"
   ]
  },
  {
   "cell_type": "markdown",
   "metadata": {},
   "source": [
    "## Topline stats"
   ]
  },
  {
   "cell_type": "code",
   "execution_count": 8,
   "metadata": {},
   "outputs": [
    {
     "data": {
      "text/plain": [
       "'The average aggregate donation is $52.68.'"
      ]
     },
     "execution_count": 8,
     "metadata": {},
     "output_type": "execute_result"
    }
   ],
   "source": [
    "avg_donation = (\n",
    "    actblue\n",
    "    .groupby(['donor_id', 'candidate_name'])\n",
    "    ['latest_contribution_aggregate']\n",
    "    .max()\n",
    "    .mean()\n",
    ")\n",
    "\n",
    "avg_donation\n",
    "\n",
    "f\"The average aggregate donation is ${round(avg_donation, 2)}.\""
   ]
  },
  {
   "cell_type": "code",
   "execution_count": 9,
   "metadata": {},
   "outputs": [
    {
     "data": {
      "text/html": [
       "<div>\n",
       "<style scoped>\n",
       "    .dataframe tbody tr th:only-of-type {\n",
       "        vertical-align: middle;\n",
       "    }\n",
       "\n",
       "    .dataframe tbody tr th {\n",
       "        vertical-align: top;\n",
       "    }\n",
       "\n",
       "    .dataframe thead th {\n",
       "        text-align: right;\n",
       "    }\n",
       "</style>\n",
       "<table border=\"1\" class=\"dataframe\">\n",
       "  <thead>\n",
       "    <tr style=\"text-align: right;\">\n",
       "      <th></th>\n",
       "      <th>Donations</th>\n",
       "    </tr>\n",
       "  </thead>\n",
       "  <tbody>\n",
       "    <tr>\n",
       "      <th>Bernie Sanders</th>\n",
       "      <td>1820719</td>\n",
       "    </tr>\n",
       "    <tr>\n",
       "      <th>Elizabeth Warren</th>\n",
       "      <td>812628</td>\n",
       "    </tr>\n",
       "    <tr>\n",
       "      <th>Pete Buttigieg</th>\n",
       "      <td>624204</td>\n",
       "    </tr>\n",
       "    <tr>\n",
       "      <th>Kamala Harris</th>\n",
       "      <td>504750</td>\n",
       "    </tr>\n",
       "    <tr>\n",
       "      <th>Joe Biden</th>\n",
       "      <td>422720</td>\n",
       "    </tr>\n",
       "  </tbody>\n",
       "</table>\n",
       "</div>"
      ],
      "text/plain": [
       "                  Donations\n",
       "Bernie Sanders      1820719\n",
       "Elizabeth Warren     812628\n",
       "Pete Buttigieg       624204\n",
       "Kamala Harris        504750\n",
       "Joe Biden            422720"
      ]
     },
     "execution_count": 9,
     "metadata": {},
     "output_type": "execute_result"
    }
   ],
   "source": [
    "donors_per_candidate = (\n",
    "    actblue\n",
    "    ['candidate_name']\n",
    "    .value_counts()\n",
    "    .to_frame(\"Donations\")\n",
    ")\n",
    "\n",
    "donors_per_candidate.head()"
   ]
  },
  {
   "cell_type": "markdown",
   "metadata": {},
   "source": [
    "## Codonors"
   ]
  },
  {
   "cell_type": "markdown",
   "metadata": {},
   "source": [
    "Find donors who gave to two or more candidates"
   ]
  },
  {
   "cell_type": "code",
   "execution_count": 10,
   "metadata": {},
   "outputs": [
    {
     "data": {
      "text/html": [
       "<div>\n",
       "<style scoped>\n",
       "    .dataframe tbody tr th:only-of-type {\n",
       "        vertical-align: middle;\n",
       "    }\n",
       "\n",
       "    .dataframe tbody tr th {\n",
       "        vertical-align: top;\n",
       "    }\n",
       "\n",
       "    .dataframe thead th {\n",
       "        text-align: right;\n",
       "    }\n",
       "</style>\n",
       "<table border=\"1\" class=\"dataframe\">\n",
       "  <thead>\n",
       "    <tr style=\"text-align: right;\">\n",
       "      <th></th>\n",
       "      <th>donor_id</th>\n",
       "      <th>candidate_x</th>\n",
       "      <th>candidate_y</th>\n",
       "    </tr>\n",
       "  </thead>\n",
       "  <tbody>\n",
       "    <tr>\n",
       "      <th>1397</th>\n",
       "      <td>A ROBERT|BAKER|03590</td>\n",
       "      <td>Amy Klobuchar</td>\n",
       "      <td>Andrew Yang</td>\n",
       "    </tr>\n",
       "    <tr>\n",
       "      <th>2880</th>\n",
       "      <td>AARON|BOTWICK|11225</td>\n",
       "      <td>Amy Klobuchar</td>\n",
       "      <td>Andrew Yang</td>\n",
       "    </tr>\n",
       "    <tr>\n",
       "      <th>4014</th>\n",
       "      <td>AARON|CONRAD|72015</td>\n",
       "      <td>Amy Klobuchar</td>\n",
       "      <td>Andrew Yang</td>\n",
       "    </tr>\n",
       "    <tr>\n",
       "      <th>4720</th>\n",
       "      <td>AARON|DIXON|78756</td>\n",
       "      <td>Amy Klobuchar</td>\n",
       "      <td>Andrew Yang</td>\n",
       "    </tr>\n",
       "    <tr>\n",
       "      <th>15836</th>\n",
       "      <td>ABBY|ROZA|55418</td>\n",
       "      <td>Amy Klobuchar</td>\n",
       "      <td>Andrew Yang</td>\n",
       "    </tr>\n",
       "  </tbody>\n",
       "</table>\n",
       "</div>"
      ],
      "text/plain": [
       "                   donor_id    candidate_x  candidate_y\n",
       "1397   A ROBERT|BAKER|03590  Amy Klobuchar  Andrew Yang\n",
       "2880    AARON|BOTWICK|11225  Amy Klobuchar  Andrew Yang\n",
       "4014     AARON|CONRAD|72015  Amy Klobuchar  Andrew Yang\n",
       "4720      AARON|DIXON|78756  Amy Klobuchar  Andrew Yang\n",
       "15836       ABBY|ROZA|55418  Amy Klobuchar  Andrew Yang"
      ]
     },
     "execution_count": 10,
     "metadata": {},
     "output_type": "execute_result"
    }
   ],
   "source": [
    "candidate_pairs = (\n",
    "    latest_contribs\n",
    "    .rename(columns = {\n",
    "        \"candidate_name\": \"candidate\"\n",
    "    })\n",
    "    [[\n",
    "        \"donor_id\",\n",
    "        \"candidate\"\n",
    "    ]]\n",
    "    # merge with itself\n",
    "    .pipe(lambda df: (\n",
    "        df\n",
    "        .merge(\n",
    "            df,\n",
    "            how = \"left\",\n",
    "            on = \"donor_id\",\n",
    "            suffixes = [ \"_x\", \"_y\" ],\n",
    "        )\n",
    "    ))\n",
    "    # This filter prevents us from double-counting candidate-combinations\n",
    "    .loc[lambda df: df[\"candidate_x\"] < df[\"candidate_y\"]]\n",
    "    .sort_values([\n",
    "        \"candidate_x\",\n",
    "        \"candidate_y\",\n",
    "        \"donor_id\"\n",
    "    ])\n",
    ")\n",
    "\n",
    "candidate_pairs.head(5)"
   ]
  },
  {
   "cell_type": "code",
   "execution_count": 11,
   "metadata": {},
   "outputs": [
    {
     "data": {
      "text/plain": [
       "'Out of 2,410,438 unique ActBlue donors, 19% of them gave to more than one candidate.'"
      ]
     },
     "execution_count": 11,
     "metadata": {},
     "output_type": "execute_result"
    }
   ],
   "source": [
    "num_unique = actblue['donor_id'].nunique()\n",
    "\n",
    "sharing = (candidate_pairs['donor_id'].nunique() / num_unique ) * 100\n",
    "\n",
    "\n",
    "f\"Out of {comma(num_unique)} unique ActBlue donors, {round(sharing)}% of them gave to more than one candidate.\""
   ]
  },
  {
   "cell_type": "markdown",
   "metadata": {},
   "source": [
    "Count the distinct donors per candidate-pairs"
   ]
  },
  {
   "cell_type": "code",
   "execution_count": 12,
   "metadata": {},
   "outputs": [
    {
     "name": "stdout",
     "output_type": "stream",
     "text": [
      "455,267 unique donors gave to more than one candidate.\n"
     ]
    },
    {
     "data": {
      "text/html": [
       "<div>\n",
       "<style scoped>\n",
       "    .dataframe tbody tr th:only-of-type {\n",
       "        vertical-align: middle;\n",
       "    }\n",
       "\n",
       "    .dataframe tbody tr th {\n",
       "        vertical-align: top;\n",
       "    }\n",
       "\n",
       "    .dataframe thead th {\n",
       "        text-align: right;\n",
       "    }\n",
       "</style>\n",
       "<table border=\"1\" class=\"dataframe\">\n",
       "  <thead>\n",
       "    <tr style=\"text-align: right;\">\n",
       "      <th></th>\n",
       "      <th>candidate_x</th>\n",
       "      <th>candidate_y</th>\n",
       "      <th>count</th>\n",
       "    </tr>\n",
       "  </thead>\n",
       "  <tbody>\n",
       "    <tr>\n",
       "      <th>0</th>\n",
       "      <td>Elizabeth Warren</td>\n",
       "      <td>Kamala Harris</td>\n",
       "      <td>61792</td>\n",
       "    </tr>\n",
       "    <tr>\n",
       "      <th>1</th>\n",
       "      <td>Bernie Sanders</td>\n",
       "      <td>Elizabeth Warren</td>\n",
       "      <td>60749</td>\n",
       "    </tr>\n",
       "    <tr>\n",
       "      <th>2</th>\n",
       "      <td>Elizabeth Warren</td>\n",
       "      <td>Pete Buttigieg</td>\n",
       "      <td>53802</td>\n",
       "    </tr>\n",
       "    <tr>\n",
       "      <th>3</th>\n",
       "      <td>Kamala Harris</td>\n",
       "      <td>Pete Buttigieg</td>\n",
       "      <td>45085</td>\n",
       "    </tr>\n",
       "    <tr>\n",
       "      <th>4</th>\n",
       "      <td>Bernie Sanders</td>\n",
       "      <td>Tulsi Gabbard</td>\n",
       "      <td>31068</td>\n",
       "    </tr>\n",
       "  </tbody>\n",
       "</table>\n",
       "</div>"
      ],
      "text/plain": [
       "        candidate_x       candidate_y  count\n",
       "0  Elizabeth Warren     Kamala Harris  61792\n",
       "1    Bernie Sanders  Elizabeth Warren  60749\n",
       "2  Elizabeth Warren    Pete Buttigieg  53802\n",
       "3     Kamala Harris    Pete Buttigieg  45085\n",
       "4    Bernie Sanders     Tulsi Gabbard  31068"
      ]
     },
     "execution_count": 12,
     "metadata": {},
     "output_type": "execute_result"
    }
   ],
   "source": [
    "pair_counts = (\n",
    "    candidate_pairs\n",
    "    .groupby([\n",
    "        \"candidate_x\",\n",
    "        \"candidate_y\",\n",
    "    ])\n",
    "    .size()\n",
    "    .to_frame(\"count\")\n",
    "    .sort_values(\"count\", ascending = False)\n",
    "    .reset_index()\n",
    "    .sort_values(\"count\", ascending = False)\n",
    ")\n",
    "\n",
    "# write out\n",
    "pair_counts.to_csv(\n",
    "    \"../output/candidate-pair-counts.csv\",\n",
    "    index = False\n",
    ")\n",
    "\n",
    "count_pairs = candidate_pairs['donor_id'].nunique()\n",
    "\n",
    "print(f\"{comma(count_pairs)} unique donors gave to more than one candidate.\")\n",
    "\n",
    "pair_counts.head()"
   ]
  },
  {
   "cell_type": "markdown",
   "metadata": {},
   "source": [
    "Find donors who gave to three or more candidates"
   ]
  },
  {
   "cell_type": "code",
   "execution_count": 13,
   "metadata": {},
   "outputs": [
    {
     "data": {
      "text/html": [
       "<div>\n",
       "<style scoped>\n",
       "    .dataframe tbody tr th:only-of-type {\n",
       "        vertical-align: middle;\n",
       "    }\n",
       "\n",
       "    .dataframe tbody tr th {\n",
       "        vertical-align: top;\n",
       "    }\n",
       "\n",
       "    .dataframe thead th {\n",
       "        text-align: right;\n",
       "    }\n",
       "</style>\n",
       "<table border=\"1\" class=\"dataframe\">\n",
       "  <thead>\n",
       "    <tr style=\"text-align: right;\">\n",
       "      <th></th>\n",
       "      <th>donor_id</th>\n",
       "      <th>candidate_x</th>\n",
       "      <th>candidate_y</th>\n",
       "      <th>candidate_z</th>\n",
       "    </tr>\n",
       "  </thead>\n",
       "  <tbody>\n",
       "    <tr>\n",
       "      <th>127091</th>\n",
       "      <td>ADRIENNE|LEVINSON|22202</td>\n",
       "      <td>Amy Klobuchar</td>\n",
       "      <td>Andrew Yang</td>\n",
       "      <td>Bernie Sanders</td>\n",
       "    </tr>\n",
       "    <tr>\n",
       "      <th>145113</th>\n",
       "      <td>AHNI|SALLAWAY|21409</td>\n",
       "      <td>Amy Klobuchar</td>\n",
       "      <td>Andrew Yang</td>\n",
       "      <td>Bernie Sanders</td>\n",
       "    </tr>\n",
       "    <tr>\n",
       "      <th>157704</th>\n",
       "      <td>AIMIN|WALSH|49085</td>\n",
       "      <td>Amy Klobuchar</td>\n",
       "      <td>Andrew Yang</td>\n",
       "      <td>Bernie Sanders</td>\n",
       "    </tr>\n",
       "    <tr>\n",
       "      <th>184806</th>\n",
       "      <td>ALAN|BELLOMO|15931</td>\n",
       "      <td>Amy Klobuchar</td>\n",
       "      <td>Andrew Yang</td>\n",
       "      <td>Bernie Sanders</td>\n",
       "    </tr>\n",
       "    <tr>\n",
       "      <th>190871</th>\n",
       "      <td>ALAN|BRITTENHAM|98058</td>\n",
       "      <td>Amy Klobuchar</td>\n",
       "      <td>Andrew Yang</td>\n",
       "      <td>Bernie Sanders</td>\n",
       "    </tr>\n",
       "  </tbody>\n",
       "</table>\n",
       "</div>"
      ],
      "text/plain": [
       "                       donor_id    candidate_x  candidate_y     candidate_z\n",
       "127091  ADRIENNE|LEVINSON|22202  Amy Klobuchar  Andrew Yang  Bernie Sanders\n",
       "145113      AHNI|SALLAWAY|21409  Amy Klobuchar  Andrew Yang  Bernie Sanders\n",
       "157704        AIMIN|WALSH|49085  Amy Klobuchar  Andrew Yang  Bernie Sanders\n",
       "184806       ALAN|BELLOMO|15931  Amy Klobuchar  Andrew Yang  Bernie Sanders\n",
       "190871    ALAN|BRITTENHAM|98058  Amy Klobuchar  Andrew Yang  Bernie Sanders"
      ]
     },
     "execution_count": 13,
     "metadata": {},
     "output_type": "execute_result"
    }
   ],
   "source": [
    "candidate_triplets = (\n",
    "    latest_contribs\n",
    "    .rename(columns = {\n",
    "        \"candidate_name\": \"candidate\"\n",
    "    })\n",
    "    [[\n",
    "        \"donor_id\",\n",
    "        \"candidate\"\n",
    "    ]]\n",
    "    .pipe(lambda df: (\n",
    "        df\n",
    "        .merge(\n",
    "            df,\n",
    "            how = \"left\",\n",
    "            on = \"donor_id\",\n",
    "            suffixes = [ \"_x\", \"_y\" ],\n",
    "        )\n",
    "        .merge(\n",
    "            df.rename(columns = { \"candidate\": \"candidate_z\" }),\n",
    "            how = \"left\",\n",
    "            on = \"donor_id\",\n",
    "        )\n",
    "    ))\n",
    "    # This filter prevents us from double-counting candidate-combinations\n",
    "    .loc[lambda df: df[\"candidate_x\"] < df[\"candidate_y\"]]\n",
    "    .loc[lambda df: df[\"candidate_y\"] < df[\"candidate_z\"]]\n",
    "    .sort_values([\n",
    "        \"candidate_x\",\n",
    "        \"candidate_y\",\n",
    "        \"candidate_z\",\n",
    "        \"donor_id\"\n",
    "    ])\n",
    ")\n",
    "\n",
    "candidate_triplets.head(5)"
   ]
  },
  {
   "cell_type": "code",
   "execution_count": 14,
   "metadata": {},
   "outputs": [
    {
     "name": "stdout",
     "output_type": "stream",
     "text": [
      "154,122 unique donors gave to three or more candidates.\n"
     ]
    }
   ],
   "source": [
    "count_triplets = candidate_triplets['donor_id'].nunique()\n",
    "\n",
    "print(f\"{comma(count_triplets)} unique donors gave to three or more candidates.\")"
   ]
  },
  {
   "cell_type": "markdown",
   "metadata": {},
   "source": [
    "Count the distinct donors per candidate-triples"
   ]
  },
  {
   "cell_type": "code",
   "execution_count": 15,
   "metadata": {},
   "outputs": [
    {
     "data": {
      "text/html": [
       "<div>\n",
       "<style scoped>\n",
       "    .dataframe tbody tr th:only-of-type {\n",
       "        vertical-align: middle;\n",
       "    }\n",
       "\n",
       "    .dataframe tbody tr th {\n",
       "        vertical-align: top;\n",
       "    }\n",
       "\n",
       "    .dataframe thead th {\n",
       "        text-align: right;\n",
       "    }\n",
       "</style>\n",
       "<table border=\"1\" class=\"dataframe\">\n",
       "  <thead>\n",
       "    <tr style=\"text-align: right;\">\n",
       "      <th></th>\n",
       "      <th>candidate_x</th>\n",
       "      <th>candidate_y</th>\n",
       "      <th>candidate_z</th>\n",
       "      <th>count</th>\n",
       "    </tr>\n",
       "  </thead>\n",
       "  <tbody>\n",
       "    <tr>\n",
       "      <th>0</th>\n",
       "      <td>Elizabeth Warren</td>\n",
       "      <td>Kamala Harris</td>\n",
       "      <td>Pete Buttigieg</td>\n",
       "      <td>18675</td>\n",
       "    </tr>\n",
       "    <tr>\n",
       "      <th>1</th>\n",
       "      <td>Elizabeth Warren</td>\n",
       "      <td>Julián Castro</td>\n",
       "      <td>Kamala Harris</td>\n",
       "      <td>12458</td>\n",
       "    </tr>\n",
       "    <tr>\n",
       "      <th>2</th>\n",
       "      <td>Cory Booker</td>\n",
       "      <td>Elizabeth Warren</td>\n",
       "      <td>Kamala Harris</td>\n",
       "      <td>10823</td>\n",
       "    </tr>\n",
       "    <tr>\n",
       "      <th>3</th>\n",
       "      <td>Elizabeth Warren</td>\n",
       "      <td>Julián Castro</td>\n",
       "      <td>Pete Buttigieg</td>\n",
       "      <td>9469</td>\n",
       "    </tr>\n",
       "    <tr>\n",
       "      <th>4</th>\n",
       "      <td>Julián Castro</td>\n",
       "      <td>Kamala Harris</td>\n",
       "      <td>Pete Buttigieg</td>\n",
       "      <td>9287</td>\n",
       "    </tr>\n",
       "  </tbody>\n",
       "</table>\n",
       "</div>"
      ],
      "text/plain": [
       "        candidate_x       candidate_y     candidate_z  count\n",
       "0  Elizabeth Warren     Kamala Harris  Pete Buttigieg  18675\n",
       "1  Elizabeth Warren     Julián Castro   Kamala Harris  12458\n",
       "2       Cory Booker  Elizabeth Warren   Kamala Harris  10823\n",
       "3  Elizabeth Warren     Julián Castro  Pete Buttigieg   9469\n",
       "4     Julián Castro     Kamala Harris  Pete Buttigieg   9287"
      ]
     },
     "execution_count": 15,
     "metadata": {},
     "output_type": "execute_result"
    }
   ],
   "source": [
    "triplet_counts = (\n",
    "    candidate_triplets\n",
    "    .groupby([\n",
    "        \"candidate_x\",\n",
    "        \"candidate_y\",\n",
    "        \"candidate_z\",\n",
    "    ])\n",
    "    .size()\n",
    "    .sort_values(ascending = False)\n",
    "    .to_frame(\"count\")\n",
    "    .reset_index()\n",
    ")\n",
    "# write out\n",
    "triplet_counts.to_csv(\n",
    "    \"../output/candidate-triplet-counts.csv\",\n",
    "    index = False\n",
    ")\n",
    "\n",
    "triplet_counts.head()"
   ]
  },
  {
   "cell_type": "markdown",
   "metadata": {},
   "source": [
    "## How often do candidates share?"
   ]
  },
  {
   "cell_type": "code",
   "execution_count": 16,
   "metadata": {},
   "outputs": [],
   "source": [
    "def sharing(candidate):\n",
    "    # donors who give to this candidate\n",
    "    candidate_donors = (\n",
    "        actblue\n",
    "        .loc[ lambda x: x[\"candidate_name\"] == candidate]\n",
    "        .groupby('donor_id')\n",
    "        .first()\n",
    "        .reset_index()\n",
    "    )\n",
    "\n",
    "    # count candidate unique donors\n",
    "    num_unique_donors = len(candidate_donors)\n",
    "\n",
    "    print(f\"There are {comma(num_unique_donors)} unique ActBlue donors to {candidate}'s campaign.\")\n",
    "\n",
    "    # total unique donors\n",
    "    actblue_total = actblue['donor_id'].nunique()\n",
    "\n",
    "    # get percent\n",
    "    percent_actblue = (num_unique_donors / actblue_total) * 100\n",
    "\n",
    "    print(f\"That's {round(percent_actblue)}% of the entire {comma(actblue_total)} ActBlue donor pool.\")\n",
    "\n",
    "    # number of candidate donors that show up in the codonor list\n",
    "    candidate_sharing = candidate_donors.loc[\n",
    "        lambda x: x['donor_id'].isin(candidate_pairs['donor_id'])\n",
    "    ].pipe(len)\n",
    "\n",
    "    percent_share = round(candidate_sharing / len(candidate_pairs) * 100)\n",
    "\n",
    "    print(f\"{percent_share}% of ActBlue donors who gave to {candidate} also gave to another candidate.\")\n"
   ]
  },
  {
   "cell_type": "code",
   "execution_count": 17,
   "metadata": {},
   "outputs": [
    {
     "name": "stdout",
     "output_type": "stream",
     "text": [
      "There are 413,479 unique ActBlue donors to Elizabeth Warren's campaign.\n",
      "That's 17% of the entire 2,410,438 ActBlue donor pool.\n",
      "15% of ActBlue donors who gave to Elizabeth Warren also gave to another candidate.\n"
     ]
    }
   ],
   "source": [
    "sharing(\"Elizabeth Warren\")"
   ]
  },
  {
   "cell_type": "code",
   "execution_count": 18,
   "metadata": {},
   "outputs": [
    {
     "name": "stdout",
     "output_type": "stream",
     "text": [
      "There are 271,506 unique ActBlue donors to Kamala Harris's campaign.\n",
      "That's 11% of the entire 2,410,438 ActBlue donor pool.\n",
      "11% of ActBlue donors who gave to Kamala Harris also gave to another candidate.\n"
     ]
    }
   ],
   "source": [
    "sharing(\"Kamala Harris\")"
   ]
  },
  {
   "cell_type": "code",
   "execution_count": 19,
   "metadata": {},
   "outputs": [
    {
     "name": "stdout",
     "output_type": "stream",
     "text": [
      "There are 387,081 unique ActBlue donors to Pete Buttigieg's campaign.\n",
      "That's 16% of the entire 2,410,438 ActBlue donor pool.\n",
      "11% of ActBlue donors who gave to Pete Buttigieg also gave to another candidate.\n"
     ]
    }
   ],
   "source": [
    "sharing(\"Pete Buttigieg\")"
   ]
  },
  {
   "cell_type": "code",
   "execution_count": 20,
   "metadata": {},
   "outputs": [
    {
     "name": "stdout",
     "output_type": "stream",
     "text": [
      "There are 108,752 unique ActBlue donors to Julián Castro's campaign.\n",
      "That's 5% of the entire 2,410,438 ActBlue donor pool.\n",
      "5% of ActBlue donors who gave to Julián Castro also gave to another candidate.\n"
     ]
    }
   ],
   "source": [
    "sharing(\"Julián Castro\")"
   ]
  },
  {
   "cell_type": "markdown",
   "metadata": {},
   "source": [
    "## Who owns the codonor pool?"
   ]
  },
  {
   "cell_type": "code",
   "execution_count": 21,
   "metadata": {},
   "outputs": [
    {
     "data": {
      "text/html": [
       "<div>\n",
       "<style scoped>\n",
       "    .dataframe tbody tr th:only-of-type {\n",
       "        vertical-align: middle;\n",
       "    }\n",
       "\n",
       "    .dataframe tbody tr th {\n",
       "        vertical-align: top;\n",
       "    }\n",
       "\n",
       "    .dataframe thead th {\n",
       "        text-align: right;\n",
       "    }\n",
       "</style>\n",
       "<table border=\"1\" class=\"dataframe\">\n",
       "  <thead>\n",
       "    <tr style=\"text-align: right;\">\n",
       "      <th></th>\n",
       "      <th>codonors</th>\n",
       "      <th>pct</th>\n",
       "    </tr>\n",
       "    <tr>\n",
       "      <th>candidate</th>\n",
       "      <th></th>\n",
       "      <th></th>\n",
       "    </tr>\n",
       "  </thead>\n",
       "  <tbody>\n",
       "    <tr>\n",
       "      <th>Elizabeth Warren</th>\n",
       "      <td>188935</td>\n",
       "      <td>41.5</td>\n",
       "    </tr>\n",
       "    <tr>\n",
       "      <th>Bernie Sanders</th>\n",
       "      <td>154564</td>\n",
       "      <td>34.0</td>\n",
       "    </tr>\n",
       "    <tr>\n",
       "      <th>Pete Buttigieg</th>\n",
       "      <td>141367</td>\n",
       "      <td>31.1</td>\n",
       "    </tr>\n",
       "    <tr>\n",
       "      <th>Kamala Harris</th>\n",
       "      <td>135772</td>\n",
       "      <td>29.8</td>\n",
       "    </tr>\n",
       "    <tr>\n",
       "      <th>Joe Biden</th>\n",
       "      <td>71970</td>\n",
       "      <td>15.8</td>\n",
       "    </tr>\n",
       "    <tr>\n",
       "      <th>Julián Castro</th>\n",
       "      <td>67198</td>\n",
       "      <td>14.8</td>\n",
       "    </tr>\n",
       "    <tr>\n",
       "      <th>Beto O'Rourke</th>\n",
       "      <td>64472</td>\n",
       "      <td>14.2</td>\n",
       "    </tr>\n",
       "    <tr>\n",
       "      <th>Cory Booker</th>\n",
       "      <td>55228</td>\n",
       "      <td>12.1</td>\n",
       "    </tr>\n",
       "    <tr>\n",
       "      <th>Tulsi Gabbard</th>\n",
       "      <td>42840</td>\n",
       "      <td>9.4</td>\n",
       "    </tr>\n",
       "    <tr>\n",
       "      <th>Kirsten Gillibrand</th>\n",
       "      <td>42737</td>\n",
       "      <td>9.4</td>\n",
       "    </tr>\n",
       "  </tbody>\n",
       "</table>\n",
       "</div>"
      ],
      "text/plain": [
       "                    codonors   pct\n",
       "candidate                         \n",
       "Elizabeth Warren      188935  41.5\n",
       "Bernie Sanders        154564  34.0\n",
       "Pete Buttigieg        141367  31.1\n",
       "Kamala Harris         135772  29.8\n",
       "Joe Biden              71970  15.8\n",
       "Julián Castro          67198  14.8\n",
       "Beto O'Rourke          64472  14.2\n",
       "Cory Booker            55228  12.1\n",
       "Tulsi Gabbard          42840   9.4\n",
       "Kirsten Gillibrand     42737   9.4"
      ]
     },
     "execution_count": 21,
     "metadata": {},
     "output_type": "execute_result"
    }
   ],
   "source": [
    "codonor_percents = (\n",
    "    candidate_pairs\n",
    "    .melt(\n",
    "        id_vars = [ \"donor_id\" ],\n",
    "        value_name = \"candidate\",\n",
    "    )\n",
    "    .groupby(\"candidate\")\n",
    "    [\"donor_id\"]\n",
    "    .nunique()\n",
    "    .to_frame(\"codonors\")\n",
    "    .assign(\n",
    "        pct = lambda df: (100 * df[\"codonors\"] / candidate_pairs[\"donor_id\"].nunique()).round(1)\n",
    "    )\n",
    "    .sort_values(\"codonors\", ascending = False)\n",
    ")\n",
    "\n",
    "codonor_percents.head(10)"
   ]
  },
  {
   "cell_type": "markdown",
   "metadata": {},
   "source": [
    "Check notebook timing"
   ]
  },
  {
   "cell_type": "code",
   "execution_count": 22,
   "metadata": {},
   "outputs": [
    {
     "data": {
      "text/plain": [
       "'The notebook ran for 2.21 minutes'"
      ]
     },
     "execution_count": 22,
     "metadata": {},
     "output_type": "execute_result"
    }
   ],
   "source": [
    "end = datetime.datetime.now()\n",
    "\n",
    "d = (end - start)\n",
    "\n",
    "f\"The notebook ran for {round(d.total_seconds() / 60, 2) } minutes\""
   ]
  },
  {
   "cell_type": "markdown",
   "metadata": {},
   "source": [
    "---\n",
    "\n",
    "---\n",
    "\n",
    "---"
   ]
  }
 ],
 "metadata": {
  "kernelspec": {
   "display_name": "Python 3",
   "language": "python",
   "name": "python3"
  },
  "language_info": {
   "codemirror_mode": {
    "name": "ipython",
    "version": 3
   },
   "file_extension": ".py",
   "mimetype": "text/x-python",
   "name": "python",
   "nbconvert_exporter": "python",
   "pygments_lexer": "ipython3",
   "version": "3.6.4"
  }
 },
 "nbformat": 4,
 "nbformat_minor": 2
}
